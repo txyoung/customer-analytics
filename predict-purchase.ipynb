{
 "cells": [
  {
   "cell_type": "code",
   "execution_count": 104,
   "metadata": {},
   "outputs": [],
   "source": [
    "import pandas as pd\n",
    "import numpy as np\n",
    "from datetime import datetime\n",
    "\n",
    "from sklearn.model_selection import train_test_split\n",
    "from sklearn.utils import resample\n",
    "from sklearn.linear_model import LogisticRegression\n",
    "from sklearn.metrics import accuracy_score"
   ]
  },
  {
   "cell_type": "code",
   "execution_count": 2,
   "metadata": {},
   "outputs": [],
   "source": [
    "df = pd.read_csv('gs://ecommerce-behavior-data/sampling_events', dtype={'event_type': str, \n",
    "                                                                        'category_code': str, 'brand': str})"
   ]
  },
  {
   "cell_type": "code",
   "execution_count": 3,
   "metadata": {},
   "outputs": [
    {
     "data": {
      "text/html": [
       "<div>\n",
       "<style scoped>\n",
       "    .dataframe tbody tr th:only-of-type {\n",
       "        vertical-align: middle;\n",
       "    }\n",
       "\n",
       "    .dataframe tbody tr th {\n",
       "        vertical-align: top;\n",
       "    }\n",
       "\n",
       "    .dataframe thead th {\n",
       "        text-align: right;\n",
       "    }\n",
       "</style>\n",
       "<table border=\"1\" class=\"dataframe\">\n",
       "  <thead>\n",
       "    <tr style=\"text-align: right;\">\n",
       "      <th></th>\n",
       "      <th>event_time</th>\n",
       "      <th>event_type</th>\n",
       "      <th>product_id</th>\n",
       "      <th>category_id</th>\n",
       "      <th>category_code</th>\n",
       "      <th>brand</th>\n",
       "      <th>price</th>\n",
       "      <th>user_id</th>\n",
       "      <th>user_session</th>\n",
       "    </tr>\n",
       "  </thead>\n",
       "  <tbody>\n",
       "    <tr>\n",
       "      <th>0</th>\n",
       "      <td>2019-10-02 09:13:57 UTC</td>\n",
       "      <td>view</td>\n",
       "      <td>5000245</td>\n",
       "      <td>2053013566100866035</td>\n",
       "      <td>appliances.sewing_machine</td>\n",
       "      <td>janome</td>\n",
       "      <td>103.81</td>\n",
       "      <td>513657838</td>\n",
       "      <td>faaff184-ac64-44df-8aa5-dce7a06cd3f3</td>\n",
       "    </tr>\n",
       "    <tr>\n",
       "      <th>1</th>\n",
       "      <td>2019-10-02 09:44:08 UTC</td>\n",
       "      <td>view</td>\n",
       "      <td>5701086</td>\n",
       "      <td>2053013553970938175</td>\n",
       "      <td>auto.accessories.player</td>\n",
       "      <td>pioneer</td>\n",
       "      <td>129.94</td>\n",
       "      <td>516912983</td>\n",
       "      <td>cb7ee854-bf9e-4719-ac65-a91524b71e57</td>\n",
       "    </tr>\n",
       "    <tr>\n",
       "      <th>2</th>\n",
       "      <td>2019-10-02 07:11:24 UTC</td>\n",
       "      <td>view</td>\n",
       "      <td>6200431</td>\n",
       "      <td>2053013552293216471</td>\n",
       "      <td>appliances.environment.air_heater</td>\n",
       "      <td>saturn</td>\n",
       "      <td>10.79</td>\n",
       "      <td>513908207</td>\n",
       "      <td>a8d2f217-baca-479a-8f38-dafe40c5f878</td>\n",
       "    </tr>\n",
       "    <tr>\n",
       "      <th>3</th>\n",
       "      <td>2019-10-01 18:51:41 UTC</td>\n",
       "      <td>view</td>\n",
       "      <td>8800998</td>\n",
       "      <td>2053013555573162395</td>\n",
       "      <td>electronics.telephone</td>\n",
       "      <td>bq</td>\n",
       "      <td>8.75</td>\n",
       "      <td>544732539</td>\n",
       "      <td>4218d83a-7f65-43cc-8e95-668d59ce8ca4</td>\n",
       "    </tr>\n",
       "    <tr>\n",
       "      <th>4</th>\n",
       "      <td>2019-10-01 18:49:22 UTC</td>\n",
       "      <td>view</td>\n",
       "      <td>8800465</td>\n",
       "      <td>2053013555573162395</td>\n",
       "      <td>electronics.telephone</td>\n",
       "      <td>k-lite</td>\n",
       "      <td>7.70</td>\n",
       "      <td>544732539</td>\n",
       "      <td>4218d83a-7f65-43cc-8e95-668d59ce8ca4</td>\n",
       "    </tr>\n",
       "  </tbody>\n",
       "</table>\n",
       "</div>"
      ],
      "text/plain": [
       "                event_time event_type  product_id          category_id  \\\n",
       "0  2019-10-02 09:13:57 UTC       view     5000245  2053013566100866035   \n",
       "1  2019-10-02 09:44:08 UTC       view     5701086  2053013553970938175   \n",
       "2  2019-10-02 07:11:24 UTC       view     6200431  2053013552293216471   \n",
       "3  2019-10-01 18:51:41 UTC       view     8800998  2053013555573162395   \n",
       "4  2019-10-01 18:49:22 UTC       view     8800465  2053013555573162395   \n",
       "\n",
       "                       category_code    brand   price    user_id  \\\n",
       "0          appliances.sewing_machine   janome  103.81  513657838   \n",
       "1            auto.accessories.player  pioneer  129.94  516912983   \n",
       "2  appliances.environment.air_heater   saturn   10.79  513908207   \n",
       "3              electronics.telephone       bq    8.75  544732539   \n",
       "4              electronics.telephone   k-lite    7.70  544732539   \n",
       "\n",
       "                           user_session  \n",
       "0  faaff184-ac64-44df-8aa5-dce7a06cd3f3  \n",
       "1  cb7ee854-bf9e-4719-ac65-a91524b71e57  \n",
       "2  a8d2f217-baca-479a-8f38-dafe40c5f878  \n",
       "3  4218d83a-7f65-43cc-8e95-668d59ce8ca4  \n",
       "4  4218d83a-7f65-43cc-8e95-668d59ce8ca4  "
      ]
     },
     "execution_count": 3,
     "metadata": {},
     "output_type": "execute_result"
    }
   ],
   "source": [
    "df.head()"
   ]
  },
  {
   "cell_type": "markdown",
   "metadata": {},
   "source": [
    "# 1. Feature Engineering\n",
    "- product_views\n",
    "- cart_items\n",
    "- basket_value\n",
    "- event_weekday\n",
    "- is_purchased (1,0)"
   ]
  },
  {
   "cell_type": "code",
   "execution_count": 4,
   "metadata": {},
   "outputs": [],
   "source": [
    "user_sessions = df.drop_duplicates([\"user_session\"])[\"user_session\"]"
   ]
  },
  {
   "cell_type": "code",
   "execution_count": 5,
   "metadata": {},
   "outputs": [
    {
     "data": {
      "text/html": [
       "<div>\n",
       "<style scoped>\n",
       "    .dataframe tbody tr th:only-of-type {\n",
       "        vertical-align: middle;\n",
       "    }\n",
       "\n",
       "    .dataframe tbody tr th {\n",
       "        vertical-align: top;\n",
       "    }\n",
       "\n",
       "    .dataframe thead th {\n",
       "        text-align: right;\n",
       "    }\n",
       "</style>\n",
       "<table border=\"1\" class=\"dataframe\">\n",
       "  <thead>\n",
       "    <tr style=\"text-align: right;\">\n",
       "      <th></th>\n",
       "      <th>product_views</th>\n",
       "      <th>cart_items</th>\n",
       "      <th>basket_value</th>\n",
       "      <th>event_weekday</th>\n",
       "      <th>is_purchased</th>\n",
       "    </tr>\n",
       "    <tr>\n",
       "      <th>user_session</th>\n",
       "      <th></th>\n",
       "      <th></th>\n",
       "      <th></th>\n",
       "      <th></th>\n",
       "      <th></th>\n",
       "    </tr>\n",
       "  </thead>\n",
       "  <tbody>\n",
       "    <tr>\n",
       "      <th>faaff184-ac64-44df-8aa5-dce7a06cd3f3</th>\n",
       "      <td>NaN</td>\n",
       "      <td>NaN</td>\n",
       "      <td>NaN</td>\n",
       "      <td>NaN</td>\n",
       "      <td>NaN</td>\n",
       "    </tr>\n",
       "    <tr>\n",
       "      <th>cb7ee854-bf9e-4719-ac65-a91524b71e57</th>\n",
       "      <td>NaN</td>\n",
       "      <td>NaN</td>\n",
       "      <td>NaN</td>\n",
       "      <td>NaN</td>\n",
       "      <td>NaN</td>\n",
       "    </tr>\n",
       "    <tr>\n",
       "      <th>a8d2f217-baca-479a-8f38-dafe40c5f878</th>\n",
       "      <td>NaN</td>\n",
       "      <td>NaN</td>\n",
       "      <td>NaN</td>\n",
       "      <td>NaN</td>\n",
       "      <td>NaN</td>\n",
       "    </tr>\n",
       "    <tr>\n",
       "      <th>4218d83a-7f65-43cc-8e95-668d59ce8ca4</th>\n",
       "      <td>NaN</td>\n",
       "      <td>NaN</td>\n",
       "      <td>NaN</td>\n",
       "      <td>NaN</td>\n",
       "      <td>NaN</td>\n",
       "    </tr>\n",
       "    <tr>\n",
       "      <th>7cc9a07c-c59f-4cef-9b3d-6fcc395956a4</th>\n",
       "      <td>NaN</td>\n",
       "      <td>NaN</td>\n",
       "      <td>NaN</td>\n",
       "      <td>NaN</td>\n",
       "      <td>NaN</td>\n",
       "    </tr>\n",
       "  </tbody>\n",
       "</table>\n",
       "</div>"
      ],
      "text/plain": [
       "                                     product_views cart_items basket_value  \\\n",
       "user_session                                                                 \n",
       "faaff184-ac64-44df-8aa5-dce7a06cd3f3           NaN        NaN          NaN   \n",
       "cb7ee854-bf9e-4719-ac65-a91524b71e57           NaN        NaN          NaN   \n",
       "a8d2f217-baca-479a-8f38-dafe40c5f878           NaN        NaN          NaN   \n",
       "4218d83a-7f65-43cc-8e95-668d59ce8ca4           NaN        NaN          NaN   \n",
       "7cc9a07c-c59f-4cef-9b3d-6fcc395956a4           NaN        NaN          NaN   \n",
       "\n",
       "                                     event_weekday is_purchased  \n",
       "user_session                                                     \n",
       "faaff184-ac64-44df-8aa5-dce7a06cd3f3           NaN          NaN  \n",
       "cb7ee854-bf9e-4719-ac65-a91524b71e57           NaN          NaN  \n",
       "a8d2f217-baca-479a-8f38-dafe40c5f878           NaN          NaN  \n",
       "4218d83a-7f65-43cc-8e95-668d59ce8ca4           NaN          NaN  \n",
       "7cc9a07c-c59f-4cef-9b3d-6fcc395956a4           NaN          NaN  "
      ]
     },
     "execution_count": 5,
     "metadata": {},
     "output_type": "execute_result"
    }
   ],
   "source": [
    "# Craeate data target\n",
    "df_target = pd.DataFrame(user_sessions, columns = [\"user_session\", \"product_views\", \"cart_items\", \"basket_value\", \"event_weekday\", \"is_purchased\"])\n",
    "\n",
    "# Set 'user_session' as an index\n",
    "df_target.set_index(\"user_session\", inplace=True)\n",
    "\n",
    "# View data\n",
    "df_target.head()"
   ]
  },
  {
   "cell_type": "code",
   "execution_count": 6,
   "metadata": {},
   "outputs": [],
   "source": [
    "# Page views count\n",
    "page_views = df.loc[df[\"event_type\"] == \"view\"].groupby([\"user_session\"])[\"event_type\"].count()\n",
    "df_page_views = pd.DataFrame(page_views, )\n",
    "df_page_views.columns = ['product_views']"
   ]
  },
  {
   "cell_type": "code",
   "execution_count": 7,
   "metadata": {},
   "outputs": [],
   "source": [
    "# Cart Items\n",
    "cart_items = df.loc[df[\"event_type\"] == \"cart\"].groupby([\"user_session\"])[\"event_type\"].count()\n",
    "df_cart_items = pd.DataFrame(cart_items)\n",
    "df_cart_items.columns = ['cart_items']"
   ]
  },
  {
   "cell_type": "code",
   "execution_count": 8,
   "metadata": {},
   "outputs": [],
   "source": [
    "# Basket Value\n",
    "basket_value = df.loc[df[\"event_type\"] == \"cart\"].groupby([\"user_session\"])[\"price\"].sum()\n",
    "df_basket_value = pd.DataFrame(basket_value)"
   ]
  },
  {
   "cell_type": "code",
   "execution_count": 9,
   "metadata": {},
   "outputs": [],
   "source": [
    "# Event Weekday\n",
    "df[\"event_weekday\"] = df[\"event_time\"].apply(lambda s: str(datetime.strptime(str(s)[0:10], \"%Y-%m-%d\").weekday()))\n",
    "event_weekday = df.groupby([\"user_session\"])[\"event_weekday\"].first()\n",
    "df_event_weekday = pd.DataFrame(event_weekday)"
   ]
  },
  {
   "cell_type": "code",
   "execution_count": 10,
   "metadata": {},
   "outputs": [],
   "source": [
    "# Is Purchase\n",
    "is_purchase = df.loc[df[\"event_type\"] == \"purchase\"].groupby([\"user_session\"])[\"event_type\"].count()\n",
    "df_is_purchase = pd.DataFrame(is_purchase)\n",
    "df_is_purchase.columns = ['is_purchased']"
   ]
  },
  {
   "cell_type": "code",
   "execution_count": 11,
   "metadata": {},
   "outputs": [],
   "source": [
    "# Create datasets\n",
    "df_target[\"product_views\"] = df_page_views[\"product_views\"]\n",
    "df_target[\"cart_items\"] = df_cart_items[\"cart_items\"]\n",
    "df_target[\"basket_value\"] = df_basket_value[\"price\"]\n",
    "df_target[\"event_weekday\"] = df_event_weekday[\"event_weekday\"]\n",
    "df_target[\"is_purchased\"] = df_is_purchase[\"is_purchased\"]\n",
    "df_target[\"is_purchased\"].fillna(value=0, inplace=True)"
   ]
  },
  {
   "cell_type": "code",
   "execution_count": 39,
   "metadata": {},
   "outputs": [
    {
     "data": {
      "text/html": [
       "<div>\n",
       "<style scoped>\n",
       "    .dataframe tbody tr th:only-of-type {\n",
       "        vertical-align: middle;\n",
       "    }\n",
       "\n",
       "    .dataframe tbody tr th {\n",
       "        vertical-align: top;\n",
       "    }\n",
       "\n",
       "    .dataframe thead th {\n",
       "        text-align: right;\n",
       "    }\n",
       "</style>\n",
       "<table border=\"1\" class=\"dataframe\">\n",
       "  <thead>\n",
       "    <tr style=\"text-align: right;\">\n",
       "      <th></th>\n",
       "      <th>product_views</th>\n",
       "      <th>cart_items</th>\n",
       "      <th>basket_value</th>\n",
       "      <th>event_weekday</th>\n",
       "      <th>is_purchased</th>\n",
       "    </tr>\n",
       "    <tr>\n",
       "      <th>user_session</th>\n",
       "      <th></th>\n",
       "      <th></th>\n",
       "      <th></th>\n",
       "      <th></th>\n",
       "      <th></th>\n",
       "    </tr>\n",
       "  </thead>\n",
       "  <tbody>\n",
       "    <tr>\n",
       "      <th>faaff184-ac64-44df-8aa5-dce7a06cd3f3</th>\n",
       "      <td>7.0</td>\n",
       "      <td>5</td>\n",
       "      <td>519.05</td>\n",
       "      <td>2</td>\n",
       "      <td>0.0</td>\n",
       "    </tr>\n",
       "    <tr>\n",
       "      <th>cb7ee854-bf9e-4719-ac65-a91524b71e57</th>\n",
       "      <td>4.0</td>\n",
       "      <td>1</td>\n",
       "      <td>129.94</td>\n",
       "      <td>2</td>\n",
       "      <td>1.0</td>\n",
       "    </tr>\n",
       "    <tr>\n",
       "      <th>a8d2f217-baca-479a-8f38-dafe40c5f878</th>\n",
       "      <td>14.0</td>\n",
       "      <td>2</td>\n",
       "      <td>21.58</td>\n",
       "      <td>2</td>\n",
       "      <td>0.0</td>\n",
       "    </tr>\n",
       "    <tr>\n",
       "      <th>4218d83a-7f65-43cc-8e95-668d59ce8ca4</th>\n",
       "      <td>69.0</td>\n",
       "      <td>1</td>\n",
       "      <td>8.62</td>\n",
       "      <td>1</td>\n",
       "      <td>0.0</td>\n",
       "    </tr>\n",
       "    <tr>\n",
       "      <th>7cc9a07c-c59f-4cef-9b3d-6fcc395956a4</th>\n",
       "      <td>195.0</td>\n",
       "      <td>1</td>\n",
       "      <td>71.71</td>\n",
       "      <td>1</td>\n",
       "      <td>0.0</td>\n",
       "    </tr>\n",
       "  </tbody>\n",
       "</table>\n",
       "</div>"
      ],
      "text/plain": [
       "                                      product_views  cart_items  basket_value  \\\n",
       "user_session                                                                    \n",
       "faaff184-ac64-44df-8aa5-dce7a06cd3f3            7.0           5        519.05   \n",
       "cb7ee854-bf9e-4719-ac65-a91524b71e57            4.0           1        129.94   \n",
       "a8d2f217-baca-479a-8f38-dafe40c5f878           14.0           2         21.58   \n",
       "4218d83a-7f65-43cc-8e95-668d59ce8ca4           69.0           1          8.62   \n",
       "7cc9a07c-c59f-4cef-9b3d-6fcc395956a4          195.0           1         71.71   \n",
       "\n",
       "                                     event_weekday  is_purchased  \n",
       "user_session                                                      \n",
       "faaff184-ac64-44df-8aa5-dce7a06cd3f3             2           0.0  \n",
       "cb7ee854-bf9e-4719-ac65-a91524b71e57             2           1.0  \n",
       "a8d2f217-baca-479a-8f38-dafe40c5f878             2           0.0  \n",
       "4218d83a-7f65-43cc-8e95-668d59ce8ca4             1           0.0  \n",
       "7cc9a07c-c59f-4cef-9b3d-6fcc395956a4             1           0.0  "
      ]
     },
     "execution_count": 39,
     "metadata": {},
     "output_type": "execute_result"
    }
   ],
   "source": [
    "df_target.head()"
   ]
  },
  {
   "cell_type": "code",
   "execution_count": 19,
   "metadata": {},
   "outputs": [
    {
     "data": {
      "text/html": [
       "<div>\n",
       "<style scoped>\n",
       "    .dataframe tbody tr th:only-of-type {\n",
       "        vertical-align: middle;\n",
       "    }\n",
       "\n",
       "    .dataframe tbody tr th {\n",
       "        vertical-align: top;\n",
       "    }\n",
       "\n",
       "    .dataframe thead th {\n",
       "        text-align: right;\n",
       "    }\n",
       "</style>\n",
       "<table border=\"1\" class=\"dataframe\">\n",
       "  <thead>\n",
       "    <tr style=\"text-align: right;\">\n",
       "      <th></th>\n",
       "      <th>product_views</th>\n",
       "      <th>cart_items</th>\n",
       "      <th>basket_value</th>\n",
       "      <th>event_weekday</th>\n",
       "      <th>is_purchased</th>\n",
       "    </tr>\n",
       "    <tr>\n",
       "      <th>user_session</th>\n",
       "      <th></th>\n",
       "      <th></th>\n",
       "      <th></th>\n",
       "      <th></th>\n",
       "      <th></th>\n",
       "    </tr>\n",
       "  </thead>\n",
       "  <tbody>\n",
       "    <tr>\n",
       "      <th>1ff605e3-682e-4042-a256-31ec3f6d12b2</th>\n",
       "      <td>NaN</td>\n",
       "      <td>1</td>\n",
       "      <td>92.64</td>\n",
       "      <td>1</td>\n",
       "      <td>0.0</td>\n",
       "    </tr>\n",
       "    <tr>\n",
       "      <th>31bd95eb-1c8a-4050-bbda-4df528ed302a</th>\n",
       "      <td>NaN</td>\n",
       "      <td>2</td>\n",
       "      <td>113.20</td>\n",
       "      <td>5</td>\n",
       "      <td>1.0</td>\n",
       "    </tr>\n",
       "    <tr>\n",
       "      <th>5ddd1352-ec67-42b2-8fd8-fec1cbdf820f</th>\n",
       "      <td>NaN</td>\n",
       "      <td>1</td>\n",
       "      <td>45.56</td>\n",
       "      <td>2</td>\n",
       "      <td>1.0</td>\n",
       "    </tr>\n",
       "    <tr>\n",
       "      <th>ca3f540e-974c-4e3a-8742-de441e8930a3</th>\n",
       "      <td>NaN</td>\n",
       "      <td>1</td>\n",
       "      <td>384.54</td>\n",
       "      <td>6</td>\n",
       "      <td>1.0</td>\n",
       "    </tr>\n",
       "    <tr>\n",
       "      <th>ef067823-a37b-4c25-bd6d-df5251c832bb</th>\n",
       "      <td>NaN</td>\n",
       "      <td>1</td>\n",
       "      <td>128.68</td>\n",
       "      <td>6</td>\n",
       "      <td>1.0</td>\n",
       "    </tr>\n",
       "    <tr>\n",
       "      <th>...</th>\n",
       "      <td>...</td>\n",
       "      <td>...</td>\n",
       "      <td>...</td>\n",
       "      <td>...</td>\n",
       "      <td>...</td>\n",
       "    </tr>\n",
       "    <tr>\n",
       "      <th>50d4d8b2-173b-4df3-b1bf-5d9d0dc53904</th>\n",
       "      <td>NaN</td>\n",
       "      <td>5</td>\n",
       "      <td>1924.00</td>\n",
       "      <td>5</td>\n",
       "      <td>0.0</td>\n",
       "    </tr>\n",
       "    <tr>\n",
       "      <th>b1e0a44c-07b4-415a-ad17-268c7b83b39e</th>\n",
       "      <td>NaN</td>\n",
       "      <td>1</td>\n",
       "      <td>1672.89</td>\n",
       "      <td>0</td>\n",
       "      <td>0.0</td>\n",
       "    </tr>\n",
       "    <tr>\n",
       "      <th>0fc88d28-a3ef-41ac-8010-bec3dfba0860</th>\n",
       "      <td>NaN</td>\n",
       "      <td>2</td>\n",
       "      <td>216.18</td>\n",
       "      <td>4</td>\n",
       "      <td>0.0</td>\n",
       "    </tr>\n",
       "    <tr>\n",
       "      <th>c888b12c-e8fa-4c3e-8568-9d9a28375330</th>\n",
       "      <td>NaN</td>\n",
       "      <td>3</td>\n",
       "      <td>2161.38</td>\n",
       "      <td>0</td>\n",
       "      <td>0.0</td>\n",
       "    </tr>\n",
       "    <tr>\n",
       "      <th>2df90313-3e98-49c7-b833-eefa5a634b54</th>\n",
       "      <td>NaN</td>\n",
       "      <td>1</td>\n",
       "      <td>42.99</td>\n",
       "      <td>6</td>\n",
       "      <td>1.0</td>\n",
       "    </tr>\n",
       "  </tbody>\n",
       "</table>\n",
       "<p>385 rows × 5 columns</p>\n",
       "</div>"
      ],
      "text/plain": [
       "                                      product_views  cart_items  basket_value  \\\n",
       "user_session                                                                    \n",
       "1ff605e3-682e-4042-a256-31ec3f6d12b2            NaN           1         92.64   \n",
       "31bd95eb-1c8a-4050-bbda-4df528ed302a            NaN           2        113.20   \n",
       "5ddd1352-ec67-42b2-8fd8-fec1cbdf820f            NaN           1         45.56   \n",
       "ca3f540e-974c-4e3a-8742-de441e8930a3            NaN           1        384.54   \n",
       "ef067823-a37b-4c25-bd6d-df5251c832bb            NaN           1        128.68   \n",
       "...                                             ...         ...           ...   \n",
       "50d4d8b2-173b-4df3-b1bf-5d9d0dc53904            NaN           5       1924.00   \n",
       "b1e0a44c-07b4-415a-ad17-268c7b83b39e            NaN           1       1672.89   \n",
       "0fc88d28-a3ef-41ac-8010-bec3dfba0860            NaN           2        216.18   \n",
       "c888b12c-e8fa-4c3e-8568-9d9a28375330            NaN           3       2161.38   \n",
       "2df90313-3e98-49c7-b833-eefa5a634b54            NaN           1         42.99   \n",
       "\n",
       "                                     event_weekday  is_purchased  \n",
       "user_session                                                      \n",
       "1ff605e3-682e-4042-a256-31ec3f6d12b2             1           0.0  \n",
       "31bd95eb-1c8a-4050-bbda-4df528ed302a             5           1.0  \n",
       "5ddd1352-ec67-42b2-8fd8-fec1cbdf820f             2           1.0  \n",
       "ca3f540e-974c-4e3a-8742-de441e8930a3             6           1.0  \n",
       "ef067823-a37b-4c25-bd6d-df5251c832bb             6           1.0  \n",
       "...                                            ...           ...  \n",
       "50d4d8b2-173b-4df3-b1bf-5d9d0dc53904             5           0.0  \n",
       "b1e0a44c-07b4-415a-ad17-268c7b83b39e             0           0.0  \n",
       "0fc88d28-a3ef-41ac-8010-bec3dfba0860             4           0.0  \n",
       "c888b12c-e8fa-4c3e-8568-9d9a28375330             0           0.0  \n",
       "2df90313-3e98-49c7-b833-eefa5a634b54             6           1.0  \n",
       "\n",
       "[385 rows x 5 columns]"
      ]
     },
     "execution_count": 19,
     "metadata": {},
     "output_type": "execute_result"
    }
   ],
   "source": [
    "# Check where session comeback on cart stage and drop it.\n",
    "df_target.loc[df_target[\"product_views\"].isnull() == True]"
   ]
  },
  {
   "cell_type": "code",
   "execution_count": 24,
   "metadata": {},
   "outputs": [],
   "source": [
    "df_target.dropna(inplace=True)"
   ]
  },
  {
   "cell_type": "code",
   "execution_count": 25,
   "metadata": {},
   "outputs": [
    {
     "name": "stdout",
     "output_type": "stream",
     "text": [
      "<class 'pandas.core.frame.DataFrame'>\n",
      "Index: 199615 entries, faaff184-ac64-44df-8aa5-dce7a06cd3f3 to d3cd965c-af67-42db-9330-aef8ef14fa87\n",
      "Data columns (total 5 columns):\n",
      " #   Column         Non-Null Count   Dtype  \n",
      "---  ------         --------------   -----  \n",
      " 0   product_views  199615 non-null  float64\n",
      " 1   cart_items     199615 non-null  int64  \n",
      " 2   basket_value   199615 non-null  float64\n",
      " 3   event_weekday  199615 non-null  object \n",
      " 4   is_purchased   199615 non-null  float64\n",
      "dtypes: float64(3), int64(1), object(1)\n",
      "memory usage: 9.1+ MB\n"
     ]
    }
   ],
   "source": [
    "df_target.info()"
   ]
  },
  {
   "cell_type": "code",
   "execution_count": 26,
   "metadata": {},
   "outputs": [],
   "source": [
    "# Save new data structure for modeling\n",
    "\n",
    "df_target.to_csv('training_data.csv')"
   ]
  },
  {
   "cell_type": "code",
   "execution_count": 27,
   "metadata": {},
   "outputs": [
    {
     "name": "stdout",
     "output_type": "stream",
     "text": [
      "<class 'pandas.core.frame.DataFrame'>\n",
      "Index: 199615 entries, faaff184-ac64-44df-8aa5-dce7a06cd3f3 to d3cd965c-af67-42db-9330-aef8ef14fa87\n",
      "Data columns (total 5 columns):\n",
      " #   Column         Non-Null Count   Dtype  \n",
      "---  ------         --------------   -----  \n",
      " 0   product_views  199615 non-null  float64\n",
      " 1   cart_items     199615 non-null  int64  \n",
      " 2   basket_value   199615 non-null  float64\n",
      " 3   event_weekday  199615 non-null  object \n",
      " 4   is_purchased   199615 non-null  float64\n",
      "dtypes: float64(3), int64(1), object(1)\n",
      "memory usage: 9.1+ MB\n"
     ]
    }
   ],
   "source": [
    "df_target.info()"
   ]
  },
  {
   "cell_type": "markdown",
   "metadata": {},
   "source": [
    "# 2. Resampling Training Set"
   ]
  },
  {
   "cell_type": "code",
   "execution_count": 34,
   "metadata": {},
   "outputs": [
    {
     "data": {
      "text/plain": [
       "85884"
      ]
     },
     "execution_count": 34,
     "metadata": {},
     "output_type": "execute_result"
    }
   ],
   "source": [
    "is_purchased_set = df_target[df_target['is_purchased'] == 1]\n",
    "is_purchased_set.shape[0]"
   ]
  },
  {
   "cell_type": "code",
   "execution_count": 35,
   "metadata": {},
   "outputs": [
    {
     "data": {
      "text/plain": [
       "99615"
      ]
     },
     "execution_count": 35,
     "metadata": {},
     "output_type": "execute_result"
    }
   ],
   "source": [
    "not_purchased_set = df_target[df_target['is_purchased'] == 0]\n",
    "not_purchased_set.shape[0]"
   ]
  },
  {
   "cell_type": "code",
   "execution_count": 36,
   "metadata": {},
   "outputs": [],
   "source": [
    "n_samples = 85000\n",
    "is_purchase_downsampled = resample(is_purchased_set,\n",
    "                                  replace = False,\n",
    "                                  n_samples = n_samples,\n",
    "                                  random_state=25)\n",
    "not_purchase_downsampled = resample(not_purchased_set,\n",
    "                                  replace = False,\n",
    "                                  n_samples = n_samples,\n",
    "                                  random_state=25)"
   ]
  },
  {
   "cell_type": "code",
   "execution_count": 38,
   "metadata": {},
   "outputs": [
    {
     "data": {
      "text/plain": [
       "0.0    85000\n",
       "1.0    85000\n",
       "Name: is_purchased, dtype: int64"
      ]
     },
     "execution_count": 38,
     "metadata": {},
     "output_type": "execute_result"
    }
   ],
   "source": [
    "downsampled = pd.concat([is_purchase_downsampled, not_purchase_downsampled])\n",
    "downsampled['is_purchased'].value_counts()"
   ]
  },
  {
   "cell_type": "markdown",
   "metadata": {},
   "source": [
    "# 3. Split the Data"
   ]
  },
  {
   "cell_type": "code",
   "execution_count": 113,
   "metadata": {},
   "outputs": [
    {
     "data": {
      "text/html": [
       "<div>\n",
       "<style scoped>\n",
       "    .dataframe tbody tr th:only-of-type {\n",
       "        vertical-align: middle;\n",
       "    }\n",
       "\n",
       "    .dataframe tbody tr th {\n",
       "        vertical-align: top;\n",
       "    }\n",
       "\n",
       "    .dataframe thead th {\n",
       "        text-align: right;\n",
       "    }\n",
       "</style>\n",
       "<table border=\"1\" class=\"dataframe\">\n",
       "  <thead>\n",
       "    <tr style=\"text-align: right;\">\n",
       "      <th></th>\n",
       "      <th>product_views</th>\n",
       "      <th>cart_items</th>\n",
       "      <th>basket_value</th>\n",
       "      <th>event_weekday</th>\n",
       "    </tr>\n",
       "    <tr>\n",
       "      <th>user_session</th>\n",
       "      <th></th>\n",
       "      <th></th>\n",
       "      <th></th>\n",
       "      <th></th>\n",
       "    </tr>\n",
       "  </thead>\n",
       "  <tbody>\n",
       "    <tr>\n",
       "      <th>2d0100c1-4f38-43ff-a846-5e1218f218d8</th>\n",
       "      <td>1.0</td>\n",
       "      <td>1</td>\n",
       "      <td>51.46</td>\n",
       "      <td>0</td>\n",
       "    </tr>\n",
       "    <tr>\n",
       "      <th>5ac09ae9-1ac4-42bf-9f65-4f12b4399b4e</th>\n",
       "      <td>19.0</td>\n",
       "      <td>2</td>\n",
       "      <td>678.98</td>\n",
       "      <td>4</td>\n",
       "    </tr>\n",
       "    <tr>\n",
       "      <th>41fc1d89-42da-493c-93d3-2779e0c06a86</th>\n",
       "      <td>1.0</td>\n",
       "      <td>1</td>\n",
       "      <td>727.69</td>\n",
       "      <td>5</td>\n",
       "    </tr>\n",
       "    <tr>\n",
       "      <th>700a6a45-cb4f-493a-a4c4-976e799fc475</th>\n",
       "      <td>4.0</td>\n",
       "      <td>2</td>\n",
       "      <td>1081.46</td>\n",
       "      <td>5</td>\n",
       "    </tr>\n",
       "    <tr>\n",
       "      <th>e12b55fe-bcb3-49ea-bc19-1b5b9289d973</th>\n",
       "      <td>9.0</td>\n",
       "      <td>2</td>\n",
       "      <td>299.80</td>\n",
       "      <td>6</td>\n",
       "    </tr>\n",
       "  </tbody>\n",
       "</table>\n",
       "</div>"
      ],
      "text/plain": [
       "                                      product_views  cart_items  basket_value  \\\n",
       "user_session                                                                    \n",
       "2d0100c1-4f38-43ff-a846-5e1218f218d8            1.0           1         51.46   \n",
       "5ac09ae9-1ac4-42bf-9f65-4f12b4399b4e           19.0           2        678.98   \n",
       "41fc1d89-42da-493c-93d3-2779e0c06a86            1.0           1        727.69   \n",
       "700a6a45-cb4f-493a-a4c4-976e799fc475            4.0           2       1081.46   \n",
       "e12b55fe-bcb3-49ea-bc19-1b5b9289d973            9.0           2        299.80   \n",
       "\n",
       "                                     event_weekday  \n",
       "user_session                                        \n",
       "2d0100c1-4f38-43ff-a846-5e1218f218d8             0  \n",
       "5ac09ae9-1ac4-42bf-9f65-4f12b4399b4e             4  \n",
       "41fc1d89-42da-493c-93d3-2779e0c06a86             5  \n",
       "700a6a45-cb4f-493a-a4c4-976e799fc475             5  \n",
       "e12b55fe-bcb3-49ea-bc19-1b5b9289d973             6  "
      ]
     },
     "execution_count": 113,
     "metadata": {},
     "output_type": "execute_result"
    }
   ],
   "source": [
    "features = downsampled.loc[:,['product_views','cart_items','basket_value', 'event_weekday']]\n",
    "features.head()"
   ]
  },
  {
   "cell_type": "code",
   "execution_count": 115,
   "metadata": {},
   "outputs": [],
   "source": [
    "is_purchased = downsampled['is_purchased']"
   ]
  },
  {
   "cell_type": "code",
   "execution_count": null,
   "metadata": {},
   "outputs": [],
   "source": [
    "train_X, test_X, train_Y, test_Y = train_test_split(features, \n",
    "                                                   is_purchased,\n",
    "                                                   test_size=0.3,\n",
    "                                                   random_state=0)"
   ]
  },
  {
   "cell_type": "markdown",
   "metadata": {},
   "source": [
    "# 4. Train the model"
   ]
  },
  {
   "cell_type": "code",
   "execution_count": 108,
   "metadata": {},
   "outputs": [
    {
     "data": {
      "text/plain": [
       "LogisticRegression(C=1.0, class_weight=None, dual=False, fit_intercept=True,\n",
       "                   intercept_scaling=1, l1_ratio=None, max_iter=100,\n",
       "                   multi_class='auto', n_jobs=None, penalty='l2',\n",
       "                   random_state=None, solver='lbfgs', tol=0.0001, verbose=0,\n",
       "                   warm_start=False)"
      ]
     },
     "execution_count": 108,
     "metadata": {},
     "output_type": "execute_result"
    }
   ],
   "source": [
    "model = LogisticRegression()\n",
    "model.fit(train_X, train_Y)"
   ]
  },
  {
   "cell_type": "markdown",
   "metadata": {},
   "source": [
    "# 5. Measuring model accuracy"
   ]
  },
  {
   "cell_type": "code",
   "execution_count": 109,
   "metadata": {},
   "outputs": [
    {
     "name": "stdout",
     "output_type": "stream",
     "text": [
      "Training accuracy:  0.569\n",
      "Test accuracy:  0.5715\n"
     ]
    }
   ],
   "source": [
    "pred_train_Y = model.predict(train_X)\n",
    "pred_test_Y = model.predict(test_X)\n",
    "\n",
    "train_accuracy = accuracy_score(train_Y, pred_train_Y)\n",
    "test_accuracy = accuracy_score(test_Y, pred_test_Y)\n",
    "\n",
    "print('Training accuracy: ', round(train_accuracy, 4))\n",
    "print('Test accuracy: ', round(test_accuracy, 4))"
   ]
  },
  {
   "cell_type": "markdown",
   "metadata": {},
   "source": [
    "# 6. Feature importance"
   ]
  },
  {
   "cell_type": "code",
   "execution_count": 110,
   "metadata": {},
   "outputs": [
    {
     "data": {
      "text/plain": [
       "array([[-3.39235076e-02,  5.18767128e-03,  1.63710633e-05,\n",
       "        -3.29688472e-02]])"
      ]
     },
     "execution_count": 110,
     "metadata": {},
     "output_type": "execute_result"
    }
   ],
   "source": [
    "model.coef_"
   ]
  },
  {
   "cell_type": "code",
   "execution_count": 111,
   "metadata": {},
   "outputs": [
    {
     "name": "stdout",
     "output_type": "stream",
     "text": [
      "        Features  Coefficient  Exp_Coefficient\n",
      "0  product_views    -0.033924         0.966645\n",
      "3  event_weekday    -0.032969         0.967569\n",
      "2   basket_value     0.000016         1.000016\n",
      "1     cart_items     0.005188         1.005201\n"
     ]
    }
   ],
   "source": [
    "coefficients = pd.concat([pd.DataFrame(train_X.columns), \n",
    "                          pd.DataFrame(np.transpose(model.coef_))], \n",
    "                          axis = 1)\n",
    "coefficients.columns = ['Features', 'Coefficient']\n",
    "coefficients['Exp_Coefficient'] = np.exp(coefficients['Coefficient'])\n",
    "coefficients = coefficients[coefficients['Coefficient'] != 0]\n",
    "print(coefficients.sort_values(by=['Coefficient']))"
   ]
  }
 ],
 "metadata": {
  "environment": {
   "name": "common-cpu.m46",
   "type": "gcloud",
   "uri": "gcr.io/deeplearning-platform-release/base-cpu:m46"
  },
  "kernelspec": {
   "display_name": "Python 3",
   "language": "python",
   "name": "python3"
  },
  "language_info": {
   "codemirror_mode": {
    "name": "ipython",
    "version": 3
   },
   "file_extension": ".py",
   "mimetype": "text/x-python",
   "name": "python",
   "nbconvert_exporter": "python",
   "pygments_lexer": "ipython3",
   "version": "3.7.6"
  }
 },
 "nbformat": 4,
 "nbformat_minor": 4
}
